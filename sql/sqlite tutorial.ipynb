{
 "cells": [
  {
   "cell_type": "code",
   "execution_count": 1,
   "metadata": {},
   "outputs": [],
   "source": [
    "import sqlite3 as sql\n",
    "import pandas as pd"
   ]
  },
  {
   "cell_type": "markdown",
   "metadata": {},
   "source": [
    "### routines and basics of using sqlite3\n"
   ]
  },
  {
   "cell_type": "code",
   "execution_count": 3,
   "metadata": {},
   "outputs": [
    {
     "ename": "ModuleNotFoundError",
     "evalue": "No module named 'md5'",
     "output_type": "error",
     "traceback": [
      "\u001b[1;31m---------------------------------------------------------------------------\u001b[0m",
      "\u001b[1;31mModuleNotFoundError\u001b[0m                       Traceback (most recent call last)",
      "\u001b[1;32m<ipython-input-3-83cee62efe40>\u001b[0m in \u001b[0;36m<module>\u001b[1;34m()\u001b[0m\n\u001b[1;32m----> 1\u001b[1;33m \u001b[1;32mimport\u001b[0m \u001b[0mmd5\u001b[0m\u001b[1;33m\u001b[0m\u001b[0m\n\u001b[0m",
      "\u001b[1;31mModuleNotFoundError\u001b[0m: No module named 'md5'"
     ]
    }
   ],
   "source": [
    "# connect to a .db file, create one if it does not exist.\n",
    "con = sql.connect()\n",
    "# create a cursor to execute sql command.\n",
    "cur = con.cursor()\n",
    "# execute some sql commands.\n",
    "cur.execute()\n",
    "# save the changes\n",
    "con.commit()\n",
    "# close the cursor\n",
    "cur.close()\n",
    "# close connection to .db\n",
    "con.close()"
   ]
  },
  {
   "cell_type": "code",
   "execution_count": 7,
   "metadata": {},
   "outputs": [],
   "source": [
    "con = sql.connect(\"sqltolearn.bd\")"
   ]
  },
  {
   "cell_type": "markdown",
   "metadata": {},
   "source": [
    "#### create a table in sqlite"
   ]
  },
  {
   "cell_type": "code",
   "execution_count": 8,
   "metadata": {},
   "outputs": [],
   "source": [
    "sql_create_projects_table = \"\"\" CREATE TABLE IF NOT EXISTS projects (\n",
    "                                    id integer PRIMARY KEY,\n",
    "                                    name text NOT NULL,\n",
    "                                    begin_date text,\n",
    "                                    end_date text\n",
    "                                ); \"\"\"\n",
    "\n",
    "sql_create_tasks_table = '''CREATE TABLE IF NOT EXISTS tasks (\n",
    "                                id integer PRIMARY KEY,\n",
    "                                name text NOT NULL,\n",
    "                                priority integer,\n",
    "                                status_id integer NOT NULL,\n",
    "                                project_id integer NOT NULL,\n",
    "                                begin_date text NOT NULL,\n",
    "                                end_date text NOT NULL,\n",
    "                                FOREIGN KEY (project_id) REFERENCES projects (id)\n",
    "                            );'''"
   ]
  },
  {
   "cell_type": "code",
   "execution_count": 10,
   "metadata": {},
   "outputs": [
    {
     "data": {
      "text/plain": [
       "<sqlite3.Cursor at 0x1f5382503b0>"
      ]
     },
     "execution_count": 10,
     "metadata": {},
     "output_type": "execute_result"
    }
   ],
   "source": [
    "con = sql.connect(\"sqltolearn.db\")\n",
    "# create a cursor to execute sql command.\n",
    "cur = con.cursor()\n",
    "# execute some sql commands.\n",
    "cur.execute(sql_create_projects_table)\n",
    "cur.execute(sql_create_tasks_table)\n"
   ]
  },
  {
   "cell_type": "markdown",
   "metadata": {},
   "source": [
    "#### inserting a row of data into the table of database"
   ]
  },
  {
   "cell_type": "code",
   "execution_count": 14,
   "metadata": {},
   "outputs": [
    {
     "name": "stdout",
     "output_type": "stream",
     "text": [
      "3\n"
     ]
    }
   ],
   "source": [
    "project_1 = ('Cool App with SQLite & Python', '2015-01-01', '2015-01-30')\n",
    "sql_insert_project = ''' INSERT INTO projects(name,begin_date,end_date)\n",
    "              VALUES(?,?,?) '''\n",
    "cur.execute(sql_insert_project, project_1)\n",
    "print(cur.lastrowid)"
   ]
  },
  {
   "cell_type": "code",
   "execution_count": 27,
   "metadata": {},
   "outputs": [],
   "source": [
    "projects = cur.execute('''SELECT * FROM projects''')"
   ]
  },
  {
   "cell_type": "code",
   "execution_count": 28,
   "metadata": {},
   "outputs": [
    {
     "name": "stdout",
     "output_type": "stream",
     "text": [
      "(1, 'Cool App with SQLite & Python', '2015-01-01', '2015-01-30')\n",
      "(2, 'Cool App with SQLite & Python', '2015-01-01', '2015-01-30')\n",
      "(3, 'Cool App with SQLite & Python', '2015-01-01', '2015-01-30')\n"
     ]
    }
   ],
   "source": [
    "# iterate through the cursor to show selected data.\n",
    "for row in projects:\n",
    "    print(row)"
   ]
  },
  {
   "cell_type": "markdown",
   "metadata": {},
   "source": [
    "#### update data in sqlite"
   ]
  },
  {
   "cell_type": "code",
   "execution_count": 32,
   "metadata": {},
   "outputs": [
    {
     "data": {
      "text/plain": [
       "<sqlite3.Cursor at 0x1f5382503b0>"
      ]
     },
     "execution_count": 32,
     "metadata": {},
     "output_type": "execute_result"
    }
   ],
   "source": [
    "sql_update_project = ''' UPDATE projects\n",
    "              SET name = ? ,\n",
    "                  begin_date = ? ,\n",
    "                  end_date = ?\n",
    "              WHERE id = ?'''\n",
    "project_updated = ('guauga','2018-04-01','2019-01-01',2)\n",
    "cur.execute(sql_update_project,project_updated)"
   ]
  },
  {
   "cell_type": "code",
   "execution_count": 33,
   "metadata": {},
   "outputs": [
    {
     "name": "stdout",
     "output_type": "stream",
     "text": [
      "(1, 'Cool App with SQLite & Python', '2015-01-01', '2015-01-30')\n",
      "(2, 'guauga', '2018-04-01', '2019-01-01')\n",
      "(3, 'Cool App with SQLite & Python', '2015-01-01', '2015-01-30')\n"
     ]
    }
   ],
   "source": [
    "cur.execute('''SELECT * FROM projects''')\n",
    "for row in projects:\n",
    "    print(row)"
   ]
  },
  {
   "cell_type": "markdown",
   "metadata": {},
   "source": [
    "#### delete data in sqlite"
   ]
  },
  {
   "cell_type": "code",
   "execution_count": null,
   "metadata": {},
   "outputs": [],
   "source": [
    "sql_delete = '''DELETE FROM tasks WHERE id=?'''"
   ]
  },
  {
   "cell_type": "markdown",
   "metadata": {},
   "source": [
    "#### select data in sqlite"
   ]
  },
  {
   "cell_type": "code",
   "execution_count": null,
   "metadata": {},
   "outputs": [],
   "source": [
    "sql_select = '''SELECT * FROM projects WHERE end_date=?'''"
   ]
  },
  {
   "cell_type": "code",
   "execution_count": null,
   "metadata": {},
   "outputs": [],
   "source": []
  },
  {
   "cell_type": "code",
   "execution_count": null,
   "metadata": {},
   "outputs": [],
   "source": [
    "### showing tables "
   ]
  },
  {
   "cell_type": "code",
   "execution_count": null,
   "metadata": {},
   "outputs": [],
   "source": []
  },
  {
   "cell_type": "code",
   "execution_count": null,
   "metadata": {},
   "outputs": [],
   "source": []
  },
  {
   "cell_type": "markdown",
   "metadata": {},
   "source": [
    "## import from and export to csv"
   ]
  },
  {
   "cell_type": "code",
   "execution_count": null,
   "metadata": {},
   "outputs": [],
   "source": [
    "# export csv to sqlite via pandas\n",
    "df = pd.read_csv()\n",
    "df.to_sql()"
   ]
  },
  {
   "cell_type": "code",
   "execution_count": null,
   "metadata": {},
   "outputs": [],
   "source": [
    "# read dataframe from sqlite\n",
    "df = pd.read_sql()"
   ]
  },
  {
   "cell_type": "code",
   "execution_count": null,
   "metadata": {},
   "outputs": [],
   "source": []
  },
  {
   "cell_type": "markdown",
   "metadata": {},
   "source": [
    "## sql languages"
   ]
  },
  {
   "cell_type": "markdown",
   "metadata": {},
   "source": [
    "### SELECT  \n",
    "select is the most complex query in sql"
   ]
  },
  {
   "cell_type": "code",
   "execution_count": null,
   "metadata": {},
   "outputs": [],
   "source": [
    "\"\"\"SELECT DISTINCT column_list\n",
    "FROM table_list\n",
    "  JOIN table ON join_condition\n",
    "WHERE row_filter\n",
    "ORDER BY column\n",
    "LIMIT count OFFSET offset\n",
    "GROUP BY column\n",
    "HAVING group_filter;\"\"\""
   ]
  },
  {
   "cell_type": "markdown",
   "metadata": {},
   "source": [
    "### ORDER BY"
   ]
  },
  {
   "cell_type": "code",
   "execution_count": null,
   "metadata": {},
   "outputs": [],
   "source": [
    "\"\"\"SELECT\n",
    " column_list\n",
    "FROM\n",
    " table\n",
    "ORDER BY\n",
    " column_1 ASC,\n",
    " column_2 DESC;\"\"\""
   ]
  },
  {
   "cell_type": "markdown",
   "metadata": {},
   "source": [
    "### use of DISTINCT"
   ]
  },
  {
   "cell_type": "markdown",
   "metadata": {},
   "source": [
    "### WHERE clause \n",
    "to filter rows  \n",
    "more:http://www.sqlitetutorial.net/sqlite-where/"
   ]
  },
  {
   "cell_type": "code",
   "execution_count": null,
   "metadata": {},
   "outputs": [],
   "source": [
    "column_name = 100;\n",
    "column_name in (1,2,3);\n",
    "column_name LIKE 'An%';\n",
    "column_name BETWEEN 10 AND 20;"
   ]
  },
  {
   "cell_type": "markdown",
   "metadata": {},
   "source": [
    "### LIMIT clause \n",
    "to limit number of rows to be extracted\n",
    "\n",
    "### LEFT JOIN clause  \n",
    "to query data from multiple correlated tables.  \n",
    "all rows in the A table are included in the result set whether there are matching rows in the B table or not."
   ]
  },
  {
   "cell_type": "code",
   "execution_count": 3,
   "metadata": {},
   "outputs": [
    {
     "data": {
      "text/plain": [
       "'\\nSELECT\\n a,\\n b\\nFROM\\n A\\nLEFT JOIN B ON A.f = B.f\\nWHERE search_condition;\\n'"
      ]
     },
     "execution_count": 3,
     "metadata": {},
     "output_type": "execute_result"
    }
   ],
   "source": [
    "\"\"\"\n",
    "SELECT\n",
    " a,\n",
    " b\n",
    "FROM\n",
    " A\n",
    "LEFT JOIN B ON A.f = B.f\n",
    "WHERE search_condition;\n",
    "\"\"\""
   ]
  },
  {
   "cell_type": "markdown",
   "metadata": {},
   "source": [
    "#### INNER JOIN  \n",
    "To query data from multiple tables.  \n",
    "Not like LEFT JOIN, INNER JOIN joins two table with common foreign keys.\n",
    "#### CROSS JOIN\n",
    "To produce the Cartesian product of the involved tables. the number of rows is prodect of the number of rows in each involved tables.\n",
    "#### self-join\n",
    "To create a result set that joins the rows with the other rows within the same table."
   ]
  },
  {
   "cell_type": "code",
   "execution_count": null,
   "metadata": {},
   "outputs": [],
   "source": [
    "\"\"\"\n",
    "SELECT m.firstname || ' ' || m.lastname AS 'Manager',\n",
    "       e.firstname || ' ' || e.lastname AS 'Direct report' \n",
    "FROM employees e\n",
    "INNER JOIN employees m ON m.employeeid = e.reportsto\n",
    "ORDER BY manager;\n",
    "\"\"\""
   ]
  },
  {
   "cell_type": "markdown",
   "metadata": {},
   "source": [
    "### SQL Operators\n",
    "#### BETWEEN  \n",
    "test_expression BETWEEN low_expression AND high_expression\n",
    "#### IN\n",
    "expression [NOT] IN (value_list|subquery); //subtquery could be a SELECT query.\n",
    "#### LIKE\n",
    "There are two ways to construct a pattern using percent sign % and underscore _ wildcards:  \n",
    "1. The percent sign % wildcard matches any sequence of zero or more characters.\n",
    "2. The underscore _ wildcard matches any single character.  \n",
    "3. if you want to escape % and _ in your patterns, type ESCAPE \"escape_character\" at the end.\n",
    "\n",
    "#### GLOB\n",
    "GLOB is much like LIKE operator, however, it is case sensitive and uses the UNIX wildcards and it does\n",
    "not have escape character.\n",
    "1. The asterisk (*) wildcard matches any number of characters.\n",
    "2. The question mark (?) wildcard matches exactly one character.\n",
    "3. you can use the list wildcard [] to match one character from a list of characters.\n",
    "4. The list wildcard also allows a range of characters e.g., [a-z] matches any single lowercase character from a to z. \n",
    "5. You use the ^ at the beginning of the list to match any character except any character in the list."
   ]
  },
  {
   "cell_type": "code",
   "execution_count": null,
   "metadata": {},
   "outputs": [],
   "source": []
  }
 ],
 "metadata": {
  "kernelspec": {
   "display_name": "Python 3",
   "language": "python",
   "name": "python3"
  },
  "language_info": {
   "codemirror_mode": {
    "name": "ipython",
    "version": 3
   },
   "file_extension": ".py",
   "mimetype": "text/x-python",
   "name": "python",
   "nbconvert_exporter": "python",
   "pygments_lexer": "ipython3",
   "version": "3.6.5"
  }
 },
 "nbformat": 4,
 "nbformat_minor": 2
}
